{
 "cells": [
  {
   "cell_type": "code",
   "execution_count": null,
   "outputs": [],
   "source": [
    "from langchain.chat_models import ChatOpenAI\n",
    "import json\n",
    "from use_of_english.prompt import PROMPT\n",
    "\n",
    "model = ChatOpenAI(model=\"gpt-3.5-turbo-1106\")\n",
    "\n",
    "chain = PROMPT | model\n",
    "result = chain.invoke(input=\"\").content\n",
    "\n",
    "result_json = json.loads(result)\n",
    "print(result)"
   ],
   "metadata": {
    "collapsed": false
   },
   "id": "14f7b46c02a3adb9"
  },
  {
   "cell_type": "markdown",
   "source": [],
   "metadata": {
    "collapsed": false
   },
   "id": "710a7ba9daec679d"
  },
  {
   "cell_type": "markdown",
   "source": [
    "\n",
    "In recent years, social media has (1) ... the way people communicate and interact with each other. With just a few clicks, you can (2) ... connected with friends and family, share updates and photos, and even (3) ... new people from all over the world. However, social media also (4) ... its drawbacks. It can be addictive, (5) ... negative impacts on mental health, and (6) ... privacy concerns. Therefore, it is important to (7) ... a balance between using social media for positive purposes and (8) ... its negative effects.\n",
    "\n",
    "1. A) revolutionized B) transformed C) modernized D) evolved\n",
    "2. A) get B) stay C) be D) become\n",
    "3. A) meet B) encounter C) greet D) welcome\n",
    "4. A) carries B) possesses C) holds D) includes\n",
    "5. A) causing B) resulting C) leading D) bringing\n",
    "6. A) raises B) develops C) produces D) creates\n",
    "7. A) reach B) achieve C) strike D) maintain\n",
    "8. A) preventing B) avoiding C) escaping D) minimizing\n",
    "\n",
    "['A', 'B', 'A', 'D', 'C', 'A', 'D', 'B']\n"
   ],
   "metadata": {
    "collapsed": false
   },
   "id": "54cfba0d4afea200"
  },
  {
   "cell_type": "code",
   "execution_count": null,
   "outputs": [],
   "source": [],
   "metadata": {
    "collapsed": false
   },
   "id": "780c9761f3e04ce5"
  }
 ],
 "metadata": {
  "kernelspec": {
   "display_name": "Python 3",
   "language": "python",
   "name": "python3"
  },
  "language_info": {
   "codemirror_mode": {
    "name": "ipython",
    "version": 2
   },
   "file_extension": ".py",
   "mimetype": "text/x-python",
   "name": "python",
   "nbconvert_exporter": "python",
   "pygments_lexer": "ipython2",
   "version": "2.7.6"
  }
 },
 "nbformat": 4,
 "nbformat_minor": 5
}
